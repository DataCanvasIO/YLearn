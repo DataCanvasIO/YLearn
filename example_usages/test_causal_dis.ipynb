{
 "cells": [
  {
   "cell_type": "markdown",
   "metadata": {},
   "source": [
    "# Ylearn Casual Discovery - Synthetic Data"
   ]
  },
  {
   "cell_type": "code",
   "execution_count": 3,
   "metadata": {},
   "outputs": [],
   "source": [
    "import sys\n",
    "import os\n",
    "sys.path.append(os.path.dirname(os.path.dirname(os.path.abspath('./introduction.ipynb'))))"
   ]
  },
  {
   "cell_type": "code",
   "execution_count": 5,
   "metadata": {},
   "outputs": [],
   "source": [
    "import pandas as pd\n",
    "\n",
    "from ylearn.exp_dataset.gen import gen\n",
    "from ylearn.causal_discovery import CausalDiscovery, GolemDiscovery, DagmaDiscovery"
   ]
  },
  {
   "cell_type": "markdown",
   "metadata": {},
   "source": [
    "## 1. Synthetic data"
   ]
  },
  {
   "cell_type": "code",
   "execution_count": 6,
   "metadata": {},
   "outputs": [],
   "source": [
    "X = gen()\n",
    "\n",
    "X = pd.DataFrame(X, columns=[f'x{i}' for i in range(X.shape[1])])"
   ]
  },
  {
   "cell_type": "markdown",
   "metadata": {},
   "source": [
    "## 2. Notears\n",
    "\n",
    "See (https://arxiv.org/pdf/1803.01422.pdf) for reference."
   ]
  },
  {
   "cell_type": "code",
   "execution_count": 8,
   "metadata": {},
   "outputs": [
    {
     "name": "stdout",
     "output_type": "stream",
     "text": [
      "08-17 12:04:33 I ylearn.c._discovery.py 202 - learning data(100, 5) with device=cpu, dtype=torch.float64, dims=[5, 3, 1]\n",
      "08-17 12:04:53 I ylearn.c._discovery.py 226 - trim causal matrix to DAG, threshold=0.01.\n",
      "(OrderedDict([(0, []), (1, []), (2, [0]), (3, [0, 1, 2]), (4, [0, 1, 2, 3])]), array([[0.        , 0.        , 0.02899442, 0.20158441, 0.18061451],\n",
      "       [0.        , 0.        , 0.        , 0.25362264, 0.06218096],\n",
      "       [0.        , 0.        , 0.        , 0.04275383, 0.41436427],\n",
      "       [0.        , 0.        , 0.        , 0.        , 0.36565398],\n",
      "       [0.        , 0.        , 0.        , 0.        , 0.        ]]))\n"
     ]
    }
   ],
   "source": [
    "cd = CausalDiscovery(hidden_layer_dim=[3])\n",
    "est = cd(X, threshold=0.01, return_dict=True)\n",
    "print(est)"
   ]
  },
  {
   "cell_type": "markdown",
   "metadata": {},
   "source": [
    "## 3. Golem\n",
    "\n",
    "See (https://arxiv.org/pdf/2006.10201.pdf) for reference."
   ]
  },
  {
   "cell_type": "code",
   "execution_count": 13,
   "metadata": {},
   "outputs": [
    {
     "name": "stdout",
     "output_type": "stream",
     "text": [
      "08-17 12:08:15 I ylearn.c._discovery.py 363 - learning data(100, 5) with device=cpu, dtype=torch.float64, dims=[5, 100]\n",
      "08-17 12:08:27 I ylearn.c._discovery.py 382 - trim causal matrix to DAG, threshold=0.3.\n",
      "OrderedDict([(0, [1, 3]), (1, []), (2, [1]), (3, []), (4, [])])\n",
      "[[0.         0.         0.         0.         0.        ]\n",
      " [0.3279995  0.         0.31600001 0.         0.        ]\n",
      " [0.         0.         0.         0.         0.        ]\n",
      " [0.34809389 0.         0.         0.         0.        ]\n",
      " [0.         0.         0.         0.         0.        ]]\n"
     ]
    }
   ],
   "source": [
    "gocd = GolemDiscovery()\n",
    "\n",
    "est_go_dict, est_go = gocd(X, threshold=0.3, return_dict=True)\n",
    "print(est_go_dict)\n",
    "print(est_go)"
   ]
  },
  {
   "cell_type": "markdown",
   "metadata": {},
   "source": [
    "## 4. DAGMA\n",
    "\n",
    "See (https://arxiv.org/pdf/2209.08037.pdf) for reference."
   ]
  },
  {
   "cell_type": "code",
   "execution_count": 12,
   "metadata": {},
   "outputs": [
    {
     "name": "stdout",
     "output_type": "stream",
     "text": [
      "08-17 12:07:57 I ylearn.c._discovery.py 563 - learning data(100, 5) with device=cpu, dtype=torch.float64, dims=[5, 100]\n",
      "08-17 12:08:01 I ylearn.c._discovery.py 573 - trim causal matrix to DAG, threshold=0.3.\n",
      "OrderedDict([(0, []), (1, []), (2, []), (3, [0, 1]), (4, [0, 1, 2, 3])])\n",
      "[[ 0.          0.          0.          0.61648153  0.        ]\n",
      " [ 0.          0.          0.         -0.80596209 -1.29988211]\n",
      " [ 0.          0.          0.          0.         -1.53210485]\n",
      " [ 0.          0.          0.          0.         -1.43863579]\n",
      " [ 0.          0.          0.          0.          0.        ]]\n"
     ]
    }
   ],
   "source": [
    "dagmacd = DagmaDiscovery()\n",
    "est_dagma_dict, est_dagma = dagmacd(X, threshold=0.3, return_dict=True)\n",
    "print(est_dagma_dict)\n",
    "print(est_dagma)"
   ]
  }
 ],
 "metadata": {
  "kernelspec": {
   "display_name": "Python 3.8.12 ('causal')",
   "language": "python",
   "name": "python3"
  },
  "language_info": {
   "codemirror_mode": {
    "name": "ipython",
    "version": 3
   },
   "file_extension": ".py",
   "mimetype": "text/x-python",
   "name": "python",
   "nbconvert_exporter": "python",
   "pygments_lexer": "ipython3",
   "version": "3.10.11"
  },
  "orig_nbformat": 4,
  "vscode": {
   "interpreter": {
    "hash": "e0ecfad75f99b8578830c76494b15e8b8f0ed30d484e3d7b0b2aac43eb800e14"
   }
  }
 },
 "nbformat": 4,
 "nbformat_minor": 2
}
