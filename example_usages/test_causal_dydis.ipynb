{
 "cells": [
  {
   "cell_type": "markdown",
   "metadata": {},
   "source": [
    "# Ylearn Casual Discovery - Synthetic Seq Data"
   ]
  },
  {
   "cell_type": "code",
   "execution_count": 2,
   "metadata": {},
   "outputs": [],
   "source": [
    "import sys\n",
    "import os\n",
    "sys.path.append(os.path.dirname(os.path.dirname(os.path.abspath('./introduction.ipynb'))))"
   ]
  },
  {
   "cell_type": "code",
   "execution_count": 7,
   "metadata": {},
   "outputs": [],
   "source": [
    "import pandas as pd\n",
    "\n",
    "from ylearn.exp_dataset.gen import dygen, count_accuracy\n",
    "from ylearn.causal_discovery import DyCausalDiscovery, DygolemCausalDiscovery"
   ]
  },
  {
   "cell_type": "markdown",
   "metadata": {},
   "source": [
    "## 1. Synthetic data"
   ]
  },
  {
   "cell_type": "code",
   "execution_count": 5,
   "metadata": {},
   "outputs": [],
   "source": [
    "X, W_true, P_true = dygen(n=500, d=10, step=5, order=2)\n",
    "X = pd.DataFrame(X, columns=[f'x{i}' for i in range(X.shape[1])])"
   ]
  },
  {
   "cell_type": "markdown",
   "metadata": {},
   "source": [
    "## 2. Dynotears\n",
    "\n",
    "See (https://arxiv.org/pdf/2002.00498.pdf) for reference."
   ]
  },
  {
   "cell_type": "code",
   "execution_count": 20,
   "metadata": {},
   "outputs": [
    {
     "name": "stdout",
     "output_type": "stream",
     "text": [
      "08-17 12:19:45 I ylearn.c._dydiscovery.py 356 - learning data(7, 500, 10) with device=cpu, dtype=torch.float64, dims=[10, 500, 7]\n"
     ]
    },
    {
     "name": "stderr",
     "output_type": "stream",
     "text": [
      "rho=100000.0, alpha=555.3819704750674, h=0.003409783383910181:  10%|█         | 10/100 [01:00<05:36,  3.74s/it]"
     ]
    },
    {
     "name": "stdout",
     "output_type": "stream",
     "text": [
      "08-17 12:20:46 I ylearn.c._dydiscovery.py 377 - trim causal matrix to DAG, threshold=0.3.\n"
     ]
    },
    {
     "name": "stderr",
     "output_type": "stream",
     "text": [
      "                                                                                                               "
     ]
    },
    {
     "name": "stdout",
     "output_type": "stream",
     "text": [
      "{'fdr': 0.0, 'tpr': 1.0, 'fpr': 0.0, 'shd': 0, 'nnz': 10}\n",
      "{'fdr': 0.0, 'tpr': 1.6, 'fpr': 0.0, 'shd': 0, 'nnz': 10}\n",
      "{'fdr': 0.8, 'tpr': 0.6, 'fpr': 0.22857142857142856, 'shd': 11, 'nnz': 10}\n"
     ]
    },
    {
     "name": "stderr",
     "output_type": "stream",
     "text": [
      "\r"
     ]
    }
   ],
   "source": [
    "dycd = DyCausalDiscovery()\n",
    "w_est_dy, p_est_dy  = dycd(X, threshold=0.3, order=2, step=5, return_dict=True)\n",
    "acc_dy = count_accuracy(W_true, w_est_dy != 0)\n",
    "print(acc_dy)\n",
    "for k in range(P_true.shape[2]):\n",
    "    acc_dy = count_accuracy(P_true[:, :, k], p_est_dy[:, :, k] != 0)\n",
    "    print(acc_dy)"
   ]
  },
  {
   "cell_type": "markdown",
   "metadata": {},
   "source": [
    "## 3. DyGolem"
   ]
  },
  {
   "cell_type": "code",
   "execution_count": 19,
   "metadata": {},
   "outputs": [
    {
     "name": "stdout",
     "output_type": "stream",
     "text": [
      "08-17 12:19:30 I ylearn.c._dydiscovery.py 506 - learning data(7, 500, 10) with device=cpu, dtype=torch.float64, dims=[10, 500, 7]\n"
     ]
    },
    {
     "name": "stderr",
     "output_type": "stream",
     "text": [
      "h=0.2608833089378173: 17871231it [00:15, 2286699.55it/s]                   "
     ]
    },
    {
     "name": "stdout",
     "output_type": "stream",
     "text": [
      "08-17 12:19:45 I ylearn.c._dydiscovery.py 524 - trim causal matrix to DAG, threshold=0.3.\n"
     ]
    },
    {
     "name": "stderr",
     "output_type": "stream",
     "text": [
      "                                                        "
     ]
    },
    {
     "name": "stdout",
     "output_type": "stream",
     "text": [
      "{'fdr': 0.55, 'tpr': 0.9, 'fpr': 0.3142857142857143, 'shd': 12, 'nnz': 20}\n",
      "{'fdr': 0.0, 'tpr': 0.6, 'fpr': 0.0, 'shd': 7, 'nnz': 0}\n",
      "{'fdr': 0.0, 'tpr': 0.4, 'fpr': 0.0, 'shd': 8, 'nnz': 0}\n"
     ]
    },
    {
     "name": "stderr",
     "output_type": "stream",
     "text": [
      "\r"
     ]
    }
   ],
   "source": [
    "dygo = DygolemCausalDiscovery()\n",
    "w_est_dy, p_est_dy = dygo(X, threshold=0.3, order=2, step=5, return_dict=True)\n",
    "acc_dy = count_accuracy(W_true, w_est_dy != 0)\n",
    "print(acc_dy)\n",
    "for k in range(P_true.shape[2]):\n",
    "    acc_dy = count_accuracy(P_true[:, :, k], p_est_dy[:, :, k] != 0)\n",
    "    print(acc_dy)"
   ]
  },
  {
   "cell_type": "code",
   "execution_count": 18,
   "metadata": {},
   "outputs": [
    {
     "data": {
      "text/plain": [
       "{'fdr': 0.0, 'tpr': 0.6, 'fpr': 0.0, 'shd': 7, 'nnz': 0}"
      ]
     },
     "execution_count": 18,
     "metadata": {},
     "output_type": "execute_result"
    }
   ],
   "source": [
    "count_accuracy(P_true[:, :, 0], p_est_dy[:, :, 0] != 0) "
   ]
  }
 ],
 "metadata": {
  "kernelspec": {
   "display_name": "NGO",
   "language": "python",
   "name": "python3"
  },
  "language_info": {
   "codemirror_mode": {
    "name": "ipython",
    "version": 3
   },
   "file_extension": ".py",
   "mimetype": "text/x-python",
   "name": "python",
   "nbconvert_exporter": "python",
   "pygments_lexer": "ipython3",
   "version": "3.10.11"
  },
  "orig_nbformat": 4
 },
 "nbformat": 4,
 "nbformat_minor": 2
}
